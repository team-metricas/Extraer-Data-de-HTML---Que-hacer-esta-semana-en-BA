{
  "nbformat": 4,
  "nbformat_minor": 0,
  "metadata": {
    "colab": {
      "provenance": [],
      "include_colab_link": true
    },
    "kernelspec": {
      "name": "python3",
      "display_name": "Python 3"
    },
    "language_info": {
      "name": "python"
    }
  },
  "cells": [
    {
      "cell_type": "markdown",
      "metadata": {
        "id": "view-in-github",
        "colab_type": "text"
      },
      "source": [
        "<a href=\"https://colab.research.google.com/github/team-metricas/Extraer-Data-de-HTML---Que-hacer-esta-semana-en-BA/blob/main/QuehacerenBA_extraccion.ipynb\" target=\"_parent\"><img src=\"https://colab.research.google.com/assets/colab-badge.svg\" alt=\"Open In Colab\"/></a>"
      ]
    },
    {
      "cell_type": "code",
      "source": [
        "import pandas as pd\n",
        "import re\n",
        "from bs4 import BeautifulSoup\n",
        "import json\n",
        "\n",
        "# Leer el contenido del archivo HTML\n",
        "with open('html.txt', 'r', encoding='utf-8') as file:\n",
        "    html_content = file.read()\n",
        "\n",
        "# Parsear el contenido HTML con BeautifulSoup\n",
        "soup = BeautifulSoup(html_content, 'html.parser')\n",
        "\n",
        "# Extraer el script que contiene los datos JSON\n",
        "script_tag = soup.find('script', string=re.compile(r'const json ='))\n",
        "json_data = re.search(r'const json = `(.*?)`;', script_tag.string, re.DOTALL).group(1)\n",
        "\n",
        "# Convertir los datos JSON a una lista de diccionarios\n",
        "data_list = json.loads(json_data)\n",
        "\n",
        "# Inicializar listas para almacenar los datos extraídos\n",
        "event_titles = []\n",
        "event_types = []\n",
        "event_dates = []\n",
        "event_prices = []\n",
        "event_locations = []\n",
        "event_details = []\n",
        "event_urls = []\n",
        "\n",
        "# Función para limpiar el texto extraído\n",
        "def clean_text(text):\n",
        "    return re.sub(r'\\s+', ' ', text).strip()\n",
        "\n",
        "# Extraer los datos de cada diccionario y agregarlos a las listas\n",
        "for data in data_list:\n",
        "    event_titles.append(clean_text(data.get('nombre_actividad', '')))\n",
        "    event_types.append(clean_text(data.get('categoria_actividad_filtro', '')))\n",
        "    event_dates.append(clean_text(data.get('dias_horarios', '')))\n",
        "    event_prices.append(clean_text(data.get('tags', '')))\n",
        "    event_locations.append(clean_text(f\"{data.get('calle_altura', '')}, {data.get('barrio', '')}\"))\n",
        "    event_details.append(clean_text(data.get('descripcion', '')))\n",
        "    event_urls.append(clean_text(data.get('url_boton', '')))\n",
        "\n",
        "# Crear el DataFrame a partir de las listas\n",
        "df = pd.DataFrame({\n",
        "    'Título del Evento': event_titles,\n",
        "    'Tipo': event_types,\n",
        "    'Cuándo': event_dates,\n",
        "    'Precio': event_prices,\n",
        "    'Dónde': event_locations,\n",
        "    'Detalle': event_details,\n",
        "    'URL': event_urls\n",
        "})\n",
        "\n",
        "# Guardar el DataFrame en un archivo CSV\n",
        "df.to_csv('eventos.csv', index=False, encoding='utf-8-sig')\n",
        "\n",
        "# Guardar el DataFrame en un archivo Excel\n",
        "df.to_excel('EstasemanaBA.xlsx', index=False)\n"
      ],
      "metadata": {
        "id": "anFooILGMolj"
      },
      "execution_count": null,
      "outputs": []
    }
  ]
}